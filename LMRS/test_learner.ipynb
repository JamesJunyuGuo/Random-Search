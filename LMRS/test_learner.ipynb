{
 "cells": [
  {
   "cell_type": "code",
   "execution_count": 1,
   "metadata": {},
   "outputs": [
    {
     "name": "stderr",
     "output_type": "stream",
     "text": [
      "/opt/anaconda3/envs/lmrs/lib/python3.12/site-packages/tqdm/auto.py:21: TqdmWarning: IProgress not found. Please update jupyter and ipywidgets. See https://ipywidgets.readthedocs.io/en/stable/user_install.html\n",
      "  from .autonotebook import tqdm as notebook_tqdm\n",
      "2024-09-30 18:35:57,567\tINFO util.py:154 -- Missing packages: ['ipywidgets']. Run `pip install -U ipywidgets`, then restart the notebook server for rich notebook output.\n",
      "[2024-09-30 18:35:57,637] Making new env: HalfCheetah-v1\n"
     ]
    },
    {
     "name": "stdout",
     "output_type": "stream",
     "text": [
      "{'env_name': 'HalfCheetah-v1', 'seed': 4242, 'policy_type': 'linear', 'dir_std': 0.03, 'step_size': 0.02, 'num_workers': 8, 'rollout_length': 1000, 'num_rollouts': 8, 'sampler': 'jacobian', 'n_iter': 2500, 'every_val': 10, 'shift': 0, 'optimizer': 'sgd', 'learning_rate': 0.01, 'num_hidden_dim': 8, 'num_learning_iterations': 10, 'gram_schmidt': True, 'variance_reduced': False, 'filter_corrected': True}\n"
     ]
    },
    {
     "name": "stderr",
     "output_type": "stream",
     "text": [
      "/opt/anaconda3/envs/lmrs/lib/python3.12/site-packages/gym/envs/registration.py:17: PkgResourcesDeprecationWarning: Parameters to load are deprecated.  Call .resolve and .require separately.\n",
      "  result = entry_point.load(False)\n",
      "2024-09-30 18:35:58,886\tINFO worker.py:1786 -- Started a local Ray instance.\n"
     ]
    },
    {
     "name": "stdout",
     "output_type": "stream",
     "text": [
      "Sampler is jacobian; so a learner is created\n"
     ]
    },
    {
     "name": "stderr",
     "output_type": "stream",
     "text": [
      "\u001b[36m(RayWorkerForMujoco pid=67402)\u001b[0m [2024-09-30 18:36:00,342] Making new env: HalfCheetah-v1\n",
      "\u001b[36m(RayWorkerForMujoco pid=67402)\u001b[0m /opt/anaconda3/envs/lmrs/lib/python3.12/site-packages/gym/envs/registration.py:17: PkgResourcesDeprecationWarning: Parameters to load are deprecated.  Call .resolve and .require separately.\n",
      "\u001b[36m(RayWorkerForMujoco pid=67402)\u001b[0m   result = entry_point.load(False)\n"
     ]
    },
    {
     "name": "stdout",
     "output_type": "stream",
     "text": [
      "Learner with 102->8->1 using SGD (\n",
      "Parameter Group 0\n",
      "    dampening: 0\n",
      "    differentiable: False\n",
      "    foreach: None\n",
      "    fused: None\n",
      "    lr: True\n",
      "    maximize: False\n",
      "    momentum: 0.9\n",
      "    nesterov: False\n",
      "    weight_decay: 0\n",
      ") with gs:True\n",
      "TOP-K is 8\n"
     ]
    }
   ],
   "source": [
    "from random_search.mujoco_random_search_learned import MujocoRandomSearchLearned\n",
    "import click\n",
    "import json\n",
    "import gym\n",
    "import ray \n",
    "\n",
    "# @click.command()\n",
    "# @click.option('--param_file', default='params.json', help='JSON file for exp parameters')\n",
    "\n",
    "param_file = 'hc.json'  # Replace with the actual path to your JSON file\n",
    "\n",
    "# Correct usage of the with statement\n",
    "with open(param_file, 'r') as json_params:\n",
    "    params = json.load(json_params)\n",
    "    print(params)\n",
    "    \n",
    "\n",
    "exp_identifier = '|'.join('{}={}'.format(key,val) for (key,val) in params.items())\n",
    "params['exp_id'] = exp_identifier\n",
    "\n",
    "env = gym.make(params['env_name'])\n",
    "obs_dim = env.observation_space.shape[0]\n",
    "act_dim = env.action_space.shape[0]\n",
    "\n",
    "# set policy parameters. Possible filters: 'MeanStdFilter' for v2, 'NoFilter' for v1.\n",
    "policy_params={'type':'linear',\n",
    "                'ob_filter': \"MeanStdFilter\",\n",
    "                'ob_dim':obs_dim,\n",
    "                'ac_dim':act_dim}\n",
    "params[\"policy_params\"] = policy_params\n",
    "params[\"dimension\"] = obs_dim*act_dim\n",
    "# ray.init(num_cpus=params[\"num_workers\"], ignore_reinit_error=True, dashboard_host=\"127.0.0.1\")\n",
    "\n",
    "\n",
    "model = MujocoRandomSearchLearned(params)"
   ]
  },
  {
   "cell_type": "code",
   "execution_count": 2,
   "metadata": {},
   "outputs": [],
   "source": [
    "import torch\n",
    "import numpy as np \n",
    "\n",
    "num_episodes = 0\n",
    "model.sampler.current_solution = torch.from_numpy(model.current_solution).view(1,-1).float()\n",
    "\n",
    "if model.fixed_subspace:\n",
    "    print('loading')\n",
    "    model.learner.model.load_state_dict(torch.load('learner_ant'))"
   ]
  },
  {
   "cell_type": "code",
   "execution_count": 3,
   "metadata": {},
   "outputs": [
    {
     "name": "stdout",
     "output_type": "stream",
     "text": [
      "{'AverageRewards': -0.18038001837090475, 'StdRewards': 0.7948992756303357, 'MaxRewards': 1.3396068758980526, 'MinRewards': -1.8139034139063912}\n"
     ]
    }
   ],
   "source": [
    "iteration = 0\n",
    "model.ts = iteration + 1\n",
    "validation_epoch = 10\n",
    "if iteration % validation_epoch == 0:\n",
    "    # Evaluate at every validation_epoch\n",
    "    #print('Evaluation at {}'.format(num_episodes))\n",
    "    model.evaluate(num_episodes)\n",
    "\n",
    "sampler = model.sampler\n",
    "learner = sampler.learner\n",
    "\n",
    "# jac = sampler.learner.get_jacobian_corrected(sampler.current_solution, normalize=False, gpu=False)"
   ]
  },
  {
   "cell_type": "code",
   "execution_count": 4,
   "metadata": {},
   "outputs": [],
   "source": [
    "filters = learner.filters\n",
    "pw = learner.filters[0]\n",
    "mu = learner.filters[1]\n",
    "std = learner.filters[2].flatten()\n",
    "std[std<1e-5] = 1\n",
    "X = sampler.current_solution\n",
    "X_mat = X.view(1, pw.shape[0], pw.shape[1])\n",
    "torch.from_numpy(np.diag(1/std)).float().shape\n",
    "X_w = torch.matmul(X_mat, torch.from_numpy(np.diag(1/std)).float())"
   ]
  },
  {
   "cell_type": "code",
   "execution_count": 9,
   "metadata": {},
   "outputs": [
    {
     "data": {
      "text/plain": [
       "torch.Size([3, 102])"
      ]
     },
     "execution_count": 9,
     "metadata": {},
     "output_type": "execute_result"
    }
   ],
   "source": [
    "jac = learner.get_jacobian_corrected(X,normalize=False,gpu=False)\n",
    "jac[1].shape "
   ]
  }
 ],
 "metadata": {
  "kernelspec": {
   "display_name": "lmrs",
   "language": "python",
   "name": "python3"
  },
  "language_info": {
   "codemirror_mode": {
    "name": "ipython",
    "version": 3
   },
   "file_extension": ".py",
   "mimetype": "text/x-python",
   "name": "python",
   "nbconvert_exporter": "python",
   "pygments_lexer": "ipython3",
   "version": "3.12.5"
  }
 },
 "nbformat": 4,
 "nbformat_minor": 2
}
